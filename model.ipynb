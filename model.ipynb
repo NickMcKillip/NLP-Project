{
 "cells": [
  {
   "cell_type": "code",
   "execution_count": 1,
   "metadata": {},
   "outputs": [],
   "source": [
    "import torch\n",
    "import torch.nn as nn\n",
    "from torch.autograd import Variable"
   ]
  },
  {
   "cell_type": "code",
   "execution_count": 10,
   "metadata": {},
   "outputs": [],
   "source": [
    "class WVModel(nn.Module):\n",
    "    \n",
    "    #loosely based on https://github.com/salesforce/awd-lstm-lm/blob/master/model.py\n",
    "    def __init__(self, wordVecSize, numHiddenLayers, hiddenSize, hiddenSizes = None):\n",
    "        super().__init__()\n",
    "        self.getSize = lambda x: (wordVecSize if (x == 0 or x == numHiddenLayers + 2) else (hiddenSizes[x - 1] if hiddenSizes else hiddenSize))\n",
    "        self.layers = nn.ModuleList([torch.nn.LSTM(self.getSize(l), self.getSize(l + 1)) for l in range(numHiddenLayers + 2)])\n",
    "        \n",
    "    def forward(self, input, hidden):\n",
    "        \n",
    "        new_hidden = []\n",
    "        for layer, rnn in enumerate(self.layers):\n",
    "            current_output, current_new_hidden = rnn(input, hidden[layer])\n",
    "            input = current_output\n",
    "            new_hidden.append(current_new_hidden)\n",
    "            \n",
    "        output = input\n",
    "        return output, new_hidden\n",
    "    \n",
    "    #copied almost exactly from https://github.com/salesforce/awd-lstm-lm/blob/master/model.py\n",
    "    def init_hidden(self, bsz):\n",
    "        weight = next(self.parameters()).data\n",
    "        return [(weight.new(1, bsz, self.getSize(l + 1)).zero_(),\n",
    "                weight.new(1, bsz, self.getSize(l + 1)).zero_())\n",
    "                for l in range(numHiddenLayers + 2)]"
   ]
  },
  {
   "cell_type": "code",
   "execution_count": 17,
   "metadata": {},
   "outputs": [],
   "source": [
    "wordVecSize = 3\n",
    "numHiddenLayers = 4\n",
    "hiddenSize = 4\n",
    "hiddenSizes = [1, 2, 3, 2, 1]\n",
    "\n",
    "model = WVModel(wordVecSize, numHiddenLayers, hiddenSize, hiddenSizes)\n",
    "\n",
    "batch_size = 1\n",
    "input = Variable(torch.Tensor([[[0, 1, 0]]]))\n",
    "hidden = model.init_hidden(batch_size)\n",
    "output, hidden = model(input, hidden)"
   ]
  },
  {
   "cell_type": "code",
   "execution_count": 19,
   "metadata": {},
   "outputs": [
    {
     "data": {
      "text/plain": [
       "tensor([[[-0.0011,  0.0285,  0.0928]]])"
      ]
     },
     "execution_count": 19,
     "metadata": {},
     "output_type": "execute_result"
    }
   ],
   "source": [
    "def train():\n",
    "    wordVecSize = 3\n",
    "    numHiddenLayers = 4\n",
    "    hiddenSize = 4\n",
    "    hiddenSizes = [1, 2, 3, 2, 1]\n",
    "\n",
    "    model = WVModel(wordVecSize, numHiddenLayers, hiddenSize, hiddenSizes)\n"
   ]
  },
  {
   "cell_type": "code",
   "execution_count": null,
   "metadata": {},
   "outputs": [],
   "source": []
  }
 ],
 "metadata": {
  "kernelspec": {
   "display_name": "Python 3",
   "language": "python",
   "name": "python3"
  },
  "language_info": {
   "codemirror_mode": {
    "name": "ipython",
    "version": 3
   },
   "file_extension": ".py",
   "mimetype": "text/x-python",
   "name": "python",
   "nbconvert_exporter": "python",
   "pygments_lexer": "ipython3",
   "version": "3.6.4"
  }
 },
 "nbformat": 4,
 "nbformat_minor": 2
}
